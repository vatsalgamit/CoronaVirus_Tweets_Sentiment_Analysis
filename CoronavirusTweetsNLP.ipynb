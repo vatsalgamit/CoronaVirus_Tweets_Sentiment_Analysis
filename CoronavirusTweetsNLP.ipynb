{
  "nbformat": 4,
  "nbformat_minor": 0,
  "metadata": {
    "colab": {
      "name": "CoronavirusTweetsNLP.ipynb",
      "provenance": []
    },
    "kernelspec": {
      "name": "python3",
      "display_name": "Python 3"
    },
    "language_info": {
      "name": "python"
    }
  },
  "cells": [
    {
      "cell_type": "markdown",
      "metadata": {
        "id": "TiFjeP-Xmfc0"
      },
      "source": [
        "# **Coronavirus tweets NLP - Text Classification**"
      ]
    },
    {
      "cell_type": "code",
      "metadata": {
        "colab": {
          "base_uri": "https://localhost:8080/"
        },
        "id": "ou7Y0NKAmlFU",
        "outputId": "585fd07f-3bce-4125-d870-75429d480d20"
      },
      "source": [
        "import pandas as pd\n",
        "import nltk\n",
        "import re\n",
        "from nltk.corpus import stopwords\n",
        "from tqdm import tqdm\n",
        "from nltk.stem import WordNetLemmatizer\n",
        "from wordcloud import WordCloud\n",
        "import matplotlib.pyplot as plt\n",
        "import numpy as np\n",
        "from PIL import Image\n",
        "from sklearn.feature_extraction.text import CountVectorizer\n",
        "from sklearn.model_selection import train_test_split\n",
        "from sklearn.preprocessing import LabelEncoder\n",
        "import warnings\n",
        "import keras\n",
        "from keras.layers import Dense,LSTM,Embedding,Input,GlobalMaxPool1D\n",
        "from keras.models import Sequential\n",
        "from sklearn.naive_bayes import CategoricalNB\n",
        "from sklearn.tree import DecisionTreeClassifier\n",
        "from sklearn.ensemble import RandomForestClassifier\n",
        "from sklearn.linear_model import LogisticRegression\n",
        "from sklearn.metrics import classification_report\n",
        "from keras.callbacks import EarlyStopping,ReduceLROnPlateau\n",
        "from keras.preprocessing.text import Tokenizer\n",
        "from keras.preprocessing.sequence import pad_sequences\n",
        "warnings.filterwarnings('ignore')\n",
        "\n",
        "print('All modules are imported!!')"
      ],
      "execution_count": 2,
      "outputs": [
        {
          "output_type": "stream",
          "text": [
            "All modules are imported!!\n"
          ],
          "name": "stdout"
        }
      ]
    },
    {
      "cell_type": "code",
      "metadata": {
        "colab": {
          "base_uri": "https://localhost:8080/",
          "height": 204
        },
        "id": "XozkxobnpoPZ",
        "outputId": "5ffc8433-f732-4a70-f137-af6807aecdac"
      },
      "source": [
        "#Load the data\n",
        "data=pd.read_csv('/content/drive/MyDrive/Datasets/Corona Tweet Sentiment Analysis/Corona_NLP_train.csv',encoding='latin1',parse_dates=['TweetAt'])\n",
        "data.head()"
      ],
      "execution_count": 3,
      "outputs": [
        {
          "output_type": "execute_result",
          "data": {
            "text/html": [
              "<div>\n",
              "<style scoped>\n",
              "    .dataframe tbody tr th:only-of-type {\n",
              "        vertical-align: middle;\n",
              "    }\n",
              "\n",
              "    .dataframe tbody tr th {\n",
              "        vertical-align: top;\n",
              "    }\n",
              "\n",
              "    .dataframe thead th {\n",
              "        text-align: right;\n",
              "    }\n",
              "</style>\n",
              "<table border=\"1\" class=\"dataframe\">\n",
              "  <thead>\n",
              "    <tr style=\"text-align: right;\">\n",
              "      <th></th>\n",
              "      <th>UserName</th>\n",
              "      <th>ScreenName</th>\n",
              "      <th>Location</th>\n",
              "      <th>TweetAt</th>\n",
              "      <th>OriginalTweet</th>\n",
              "      <th>Sentiment</th>\n",
              "    </tr>\n",
              "  </thead>\n",
              "  <tbody>\n",
              "    <tr>\n",
              "      <th>0</th>\n",
              "      <td>3799</td>\n",
              "      <td>48751</td>\n",
              "      <td>London</td>\n",
              "      <td>2020-03-16</td>\n",
              "      <td>@MeNyrbie @Phil_Gahan @Chrisitv https://t.co/i...</td>\n",
              "      <td>Neutral</td>\n",
              "    </tr>\n",
              "    <tr>\n",
              "      <th>1</th>\n",
              "      <td>3800</td>\n",
              "      <td>48752</td>\n",
              "      <td>UK</td>\n",
              "      <td>2020-03-16</td>\n",
              "      <td>advice Talk to your neighbours family to excha...</td>\n",
              "      <td>Positive</td>\n",
              "    </tr>\n",
              "    <tr>\n",
              "      <th>2</th>\n",
              "      <td>3801</td>\n",
              "      <td>48753</td>\n",
              "      <td>Vagabonds</td>\n",
              "      <td>2020-03-16</td>\n",
              "      <td>Coronavirus Australia: Woolworths to give elde...</td>\n",
              "      <td>Positive</td>\n",
              "    </tr>\n",
              "    <tr>\n",
              "      <th>3</th>\n",
              "      <td>3802</td>\n",
              "      <td>48754</td>\n",
              "      <td>NaN</td>\n",
              "      <td>2020-03-16</td>\n",
              "      <td>My food stock is not the only one which is emp...</td>\n",
              "      <td>Positive</td>\n",
              "    </tr>\n",
              "    <tr>\n",
              "      <th>4</th>\n",
              "      <td>3803</td>\n",
              "      <td>48755</td>\n",
              "      <td>NaN</td>\n",
              "      <td>2020-03-16</td>\n",
              "      <td>Me, ready to go at supermarket during the #COV...</td>\n",
              "      <td>Extremely Negative</td>\n",
              "    </tr>\n",
              "  </tbody>\n",
              "</table>\n",
              "</div>"
            ],
            "text/plain": [
              "   UserName  ...           Sentiment\n",
              "0      3799  ...             Neutral\n",
              "1      3800  ...            Positive\n",
              "2      3801  ...            Positive\n",
              "3      3802  ...            Positive\n",
              "4      3803  ...  Extremely Negative\n",
              "\n",
              "[5 rows x 6 columns]"
            ]
          },
          "metadata": {
            "tags": []
          },
          "execution_count": 3
        }
      ]
    },
    {
      "cell_type": "code",
      "metadata": {
        "colab": {
          "base_uri": "https://localhost:8080/",
          "height": 173
        },
        "id": "B4ugau-kp7fS",
        "outputId": "35bef087-687a-4085-fd8e-c5ecae18a3c2"
      },
      "source": [
        "data.describe(include='O')"
      ],
      "execution_count": 4,
      "outputs": [
        {
          "output_type": "execute_result",
          "data": {
            "text/html": [
              "<div>\n",
              "<style scoped>\n",
              "    .dataframe tbody tr th:only-of-type {\n",
              "        vertical-align: middle;\n",
              "    }\n",
              "\n",
              "    .dataframe tbody tr th {\n",
              "        vertical-align: top;\n",
              "    }\n",
              "\n",
              "    .dataframe thead th {\n",
              "        text-align: right;\n",
              "    }\n",
              "</style>\n",
              "<table border=\"1\" class=\"dataframe\">\n",
              "  <thead>\n",
              "    <tr style=\"text-align: right;\">\n",
              "      <th></th>\n",
              "      <th>Location</th>\n",
              "      <th>OriginalTweet</th>\n",
              "      <th>Sentiment</th>\n",
              "    </tr>\n",
              "  </thead>\n",
              "  <tbody>\n",
              "    <tr>\n",
              "      <th>count</th>\n",
              "      <td>32567</td>\n",
              "      <td>41157</td>\n",
              "      <td>41157</td>\n",
              "    </tr>\n",
              "    <tr>\n",
              "      <th>unique</th>\n",
              "      <td>12220</td>\n",
              "      <td>41157</td>\n",
              "      <td>5</td>\n",
              "    </tr>\n",
              "    <tr>\n",
              "      <th>top</th>\n",
              "      <td>London</td>\n",
              "      <td>Spain is now controlling how many ppl can ente...</td>\n",
              "      <td>Positive</td>\n",
              "    </tr>\n",
              "    <tr>\n",
              "      <th>freq</th>\n",
              "      <td>540</td>\n",
              "      <td>1</td>\n",
              "      <td>11422</td>\n",
              "    </tr>\n",
              "  </tbody>\n",
              "</table>\n",
              "</div>"
            ],
            "text/plain": [
              "       Location                                      OriginalTweet Sentiment\n",
              "count     32567                                              41157     41157\n",
              "unique    12220                                              41157         5\n",
              "top      London  Spain is now controlling how many ppl can ente...  Positive\n",
              "freq        540                                                  1     11422"
            ]
          },
          "metadata": {
            "tags": []
          },
          "execution_count": 4
        }
      ]
    },
    {
      "cell_type": "code",
      "metadata": {
        "colab": {
          "base_uri": "https://localhost:8080/"
        },
        "id": "XJYQZq_lqjaL",
        "outputId": "157cdf1f-c796-4469-fc86-64e6a67c513a"
      },
      "source": [
        "data.info()"
      ],
      "execution_count": 5,
      "outputs": [
        {
          "output_type": "stream",
          "text": [
            "<class 'pandas.core.frame.DataFrame'>\n",
            "RangeIndex: 41157 entries, 0 to 41156\n",
            "Data columns (total 6 columns):\n",
            " #   Column         Non-Null Count  Dtype         \n",
            "---  ------         --------------  -----         \n",
            " 0   UserName       41157 non-null  int64         \n",
            " 1   ScreenName     41157 non-null  int64         \n",
            " 2   Location       32567 non-null  object        \n",
            " 3   TweetAt        41157 non-null  datetime64[ns]\n",
            " 4   OriginalTweet  41157 non-null  object        \n",
            " 5   Sentiment      41157 non-null  object        \n",
            "dtypes: datetime64[ns](1), int64(2), object(3)\n",
            "memory usage: 1.9+ MB\n"
          ],
          "name": "stdout"
        }
      ]
    },
    {
      "cell_type": "code",
      "metadata": {
        "colab": {
          "base_uri": "https://localhost:8080/"
        },
        "id": "SgG-XTqtreLb",
        "outputId": "71d9a9c6-d3a8-47b3-dc28-fdfe27c90258"
      },
      "source": [
        "data.Sentiment.value_counts()"
      ],
      "execution_count": 6,
      "outputs": [
        {
          "output_type": "execute_result",
          "data": {
            "text/plain": [
              "Positive              11422\n",
              "Negative               9917\n",
              "Neutral                7713\n",
              "Extremely Positive     6624\n",
              "Extremely Negative     5481\n",
              "Name: Sentiment, dtype: int64"
            ]
          },
          "metadata": {
            "tags": []
          },
          "execution_count": 6
        }
      ]
    },
    {
      "cell_type": "code",
      "metadata": {
        "colab": {
          "base_uri": "https://localhost:8080/",
          "height": 282
        },
        "id": "8yElYkg7rnyC",
        "outputId": "5f171e70-bd43-4d54-d056-940c744cc9ba"
      },
      "source": [
        "data.Sentiment.value_counts().sort_values().plot(kind = 'barh',color=\"orange\")"
      ],
      "execution_count": 7,
      "outputs": [
        {
          "output_type": "execute_result",
          "data": {
            "text/plain": [
              "<matplotlib.axes._subplots.AxesSubplot at 0x7f8fbb4be3d0>"
            ]
          },
          "metadata": {
            "tags": []
          },
          "execution_count": 7
        },
        {
          "output_type": "display_data",
          "data": {
            "image/png": "[encoded data removed]",
            "text/plain": [
              "<Figure size 432x288 with 1 Axes>"
            ]
          },
          "metadata": {
            "tags": [],
            "needs_background": "light"
          }
        }
      ]
    },
    {
      "cell_type": "code",
      "metadata": {
        "id": "ux1oQLOUsTYp"
      },
      "source": [
        "data.Sentiment=data.Sentiment.replace({'Extremely Positive':'Positive','Extremely Negative':'Negative'})"
      ],
      "execution_count": 8,
      "outputs": []
    },
    {
      "cell_type": "code",
      "metadata": {
        "id": "cWrYSYP8ulwj"
      },
      "source": [
        "train_text,val_text,train_label,val_label=train_test_split(data.OriginalTweet,data.Sentiment,\n",
        "                                                             test_size=0.15,random_state=42)"
      ],
      "execution_count": 9,
      "outputs": []
    },
    {
      "cell_type": "code",
      "metadata": {
        "colab": {
          "base_uri": "https://localhost:8080/"
        },
        "id": "Elld1ci6uphJ",
        "outputId": "bfce23d9-9e6c-475b-b70e-0fd5202c0aca"
      },
      "source": [
        "val_text"
      ],
      "execution_count": 10,
      "outputs": [
        {
          "output_type": "execute_result",
          "data": {
            "text/plain": [
              "31089     Without the there would not be any problem wh...\n",
              "35564    Rice &amp; wheat prices surge amid fears Covid...\n",
              "144      When the government says to start social dista...\n",
              "8202     What the shops are doing is obeying the law of...\n",
              "31720    Kaduna State Task Force on Covid 19 led by the...\n",
              "                               ...                        \n",
              "3803     #coronavirus Shopping online with https://t.co...\n",
              "21486    #toiletpaper \\r\\r\\n@ProcterGamble \\r\\r\\n@Georg...\n",
              "10012    @SimoneSchnall Interesting read. This theory c...\n",
              "38148    Hi This is a little reminder to use plenty han...\n",
              "33616    How will we come through the other side of the...\n",
              "Name: OriginalTweet, Length: 6174, dtype: object"
            ]
          },
          "metadata": {
            "tags": []
          },
          "execution_count": 10
        }
      ]
    },
    {
      "cell_type": "code",
      "metadata": {
        "id": "TT6cmDESusmj"
      },
      "source": [
        "lbl_encoder=LabelEncoder()\n",
        "train_label_codes=lbl_encoder.fit_transform(train_label)"
      ],
      "execution_count": 11,
      "outputs": []
    },
    {
      "cell_type": "code",
      "metadata": {
        "colab": {
          "base_uri": "https://localhost:8080/"
        },
        "id": "i_tp68tLvDPM",
        "outputId": "83ab176d-6b9e-4ae4-a348-0fcc09ee6e2b"
      },
      "source": [
        "lbl_encoder.classes_"
      ],
      "execution_count": 12,
      "outputs": [
        {
          "output_type": "execute_result",
          "data": {
            "text/plain": [
              "array(['Negative', 'Neutral', 'Positive'], dtype=object)"
            ]
          },
          "metadata": {
            "tags": []
          },
          "execution_count": 12
        }
      ]
    },
    {
      "cell_type": "code",
      "metadata": {
        "id": "4v1wiRU3vFdB"
      },
      "source": [
        "class Lemmatizer(object):\n",
        "    def __init__(self):\n",
        "        self.lemmatizer = WordNetLemmatizer()\n",
        "    def __call__(self, sentence):\n",
        "        sentence=re.sub('(https?:\\/\\/)?([\\da-z\\.-]+)\\.([a-z\\.]{2,6})([\\/\\w \\.-]*)',' ',sentence)\n",
        "        sentence=re.sub('[^0-9a-z]',' ',sentence)\n",
        "        return [self.lemmatizer.lemmatize(word) for word in sentence.split() if len(word)>1]"
      ],
      "execution_count": 13,
      "outputs": []
    },
    {
      "cell_type": "code",
      "metadata": {
        "id": "pbctdxuBvKVB"
      },
      "source": [
        "tokenizer=CountVectorizer(max_features=5000,stop_words='english',lowercase=True,tokenizer=Lemmatizer())"
      ],
      "execution_count": 14,
      "outputs": []
    },
    {
      "cell_type": "code",
      "metadata": {
        "colab": {
          "base_uri": "https://localhost:8080/"
        },
        "id": "KwlHbylgvM3i",
        "outputId": "6a674029-19f0-4f73-cfe5-21b1bdecd950"
      },
      "source": [
        "nltk.download('wordnet')"
      ],
      "execution_count": 15,
      "outputs": [
        {
          "output_type": "stream",
          "text": [
            "[nltk_data] Downloading package wordnet to /root/nltk_data...\n",
            "[nltk_data]   Unzipping corpora/wordnet.zip.\n"
          ],
          "name": "stdout"
        },
        {
          "output_type": "execute_result",
          "data": {
            "text/plain": [
              "True"
            ]
          },
          "metadata": {
            "tags": []
          },
          "execution_count": 15
        }
      ]
    },
    {
      "cell_type": "code",
      "metadata": {
        "id": "8x2nVGCKvO_n"
      },
      "source": [
        "train_x=tokenizer.fit_transform(train_text).toarray()"
      ],
      "execution_count": 16,
      "outputs": []
    },
    {
      "cell_type": "code",
      "metadata": {
        "colab": {
          "base_uri": "https://localhost:8080/"
        },
        "id": "ycniOs83vVzd",
        "outputId": "22369461-908c-4020-a374-f58e442769a1"
      },
      "source": [
        "tokenizer.get_params()"
      ],
      "execution_count": 17,
      "outputs": [
        {
          "output_type": "execute_result",
          "data": {
            "text/plain": [
              "{'analyzer': 'word',\n",
              " 'binary': False,\n",
              " 'decode_error': 'strict',\n",
              " 'dtype': numpy.int64,\n",
              " 'encoding': 'utf-8',\n",
              " 'input': 'content',\n",
              " 'lowercase': True,\n",
              " 'max_df': 1.0,\n",
              " 'max_features': 5000,\n",
              " 'min_df': 1,\n",
              " 'ngram_range': (1, 1),\n",
              " 'preprocessor': None,\n",
              " 'stop_words': 'english',\n",
              " 'strip_accents': None,\n",
              " 'token_pattern': '(?u)\\\\b\\\\w\\\\w+\\\\b',\n",
              " 'tokenizer': <__main__.Lemmatizer at 0x7f8fb2385210>,\n",
              " 'vocabulary': None}"
            ]
          },
          "metadata": {
            "tags": []
          },
          "execution_count": 17
        }
      ]
    },
    {
      "cell_type": "code",
      "metadata": {
        "id": "8U9v7qalvZCB"
      },
      "source": [
        "feature_names=tokenizer.get_feature_names()"
      ],
      "execution_count": 18,
      "outputs": []
    },
    {
      "cell_type": "code",
      "metadata": {
        "id": "hZEt1Xlwvb4G"
      },
      "source": [
        "val_x=tokenizer.transform(val_text).toarray()\n",
        "val_label_codes=lbl_encoder.transform(val_label)"
      ],
      "execution_count": 19,
      "outputs": []
    },
    {
      "cell_type": "code",
      "metadata": {
        "colab": {
          "base_uri": "https://localhost:8080/"
        },
        "id": "Qv2eUxb2vdnV",
        "outputId": "e4c93cc0-d083-494f-a7d3-d816294568ad"
      },
      "source": [
        "from sklearn.linear_model import LogisticRegression\n",
        "model_p1=LogisticRegression()\n",
        "model_p1.fit(train_x,train_label_codes)"
      ],
      "execution_count": 20,
      "outputs": [
        {
          "output_type": "execute_result",
          "data": {
            "text/plain": [
              "LogisticRegression(C=1.0, class_weight=None, dual=False, fit_intercept=True,\n",
              "                   intercept_scaling=1, l1_ratio=None, max_iter=100,\n",
              "                   multi_class='auto', n_jobs=None, penalty='l2',\n",
              "                   random_state=None, solver='lbfgs', tol=0.0001, verbose=0,\n",
              "                   warm_start=False)"
            ]
          },
          "metadata": {
            "tags": []
          },
          "execution_count": 20
        }
      ]
    },
    {
      "cell_type": "code",
      "metadata": {
        "colab": {
          "base_uri": "https://localhost:8080/"
        },
        "id": "od6LSXAPvf5u",
        "outputId": "d7dbd7dd-0ee1-46a6-d33f-48fff8f4f7ab"
      },
      "source": [
        "print('Validation classification report',classification_report(val_label_codes,model_p1.predict(val_x)))\n",
        "print('Training classification report',classification_report(train_label_codes,model_p1.predict(train_x)))"
      ],
      "execution_count": null,
      "outputs": [
        {
          "output_type": "stream",
          "text": [
            "Validation classification report               precision    recall  f1-score   support\n",
            "\n",
            "           0       0.81      0.79      0.80      2306\n",
            "           1       0.69      0.72      0.70      1176\n",
            "           2       0.83      0.83      0.83      2692\n",
            "\n",
            "    accuracy                           0.79      6174\n",
            "   macro avg       0.78      0.78      0.78      6174\n",
            "weighted avg       0.79      0.79      0.79      6174\n",
            "\n",
            "Training classification report               precision    recall  f1-score   support\n",
            "\n",
            "           0       0.90      0.89      0.89     13092\n",
            "           1       0.82      0.84      0.83      6537\n",
            "           2       0.91      0.91      0.91     15354\n",
            "\n",
            "    accuracy                           0.89     34983\n",
            "   macro avg       0.88      0.88      0.88     34983\n",
            "weighted avg       0.89      0.89      0.89     34983\n",
            "\n"
          ],
          "name": "stdout"
        }
      ]
    },
    {
      "cell_type": "code",
      "metadata": {
        "id": "0c-aSNlAv8gT"
      },
      "source": [
        "data.Sentiment=lbl_encoder.transform(data.Sentiment)"
      ],
      "execution_count": null,
      "outputs": []
    },
    {
      "cell_type": "code",
      "metadata": {
        "id": "mg_apwnxv_8M"
      },
      "source": [
        "df=data.set_index('TweetAt').resample('W').count()"
      ],
      "execution_count": null,
      "outputs": []
    },
    {
      "cell_type": "code",
      "metadata": {
        "colab": {
          "base_uri": "https://localhost:8080/",
          "height": 383
        },
        "id": "nZQH_WkmwBwY",
        "outputId": "acb347df-3459-4418-8176-55ae1d15e873"
      },
      "source": [
        "plt.figure(figsize=(10,5))\n",
        "df['OriginalTweet'].plot()\n",
        "plt.title('Number of Tweet on Weekly basis in year 2020',fontdict={'size':'20'})\n",
        "plt.plot()"
      ],
      "execution_count": null,
      "outputs": [
        {
          "output_type": "execute_result",
          "data": {
            "text/plain": [
              "[]"
            ]
          },
          "metadata": {
            "tags": []
          },
          "execution_count": 82
        },
        {
          "output_type": "display_data",
          "data": {
            "image/png": "[encoded data removed]",
            "text/plain": [
              "<Figure size 720x360 with 1 Axes>"
            ]
          },
          "metadata": {
            "tags": [],
            "needs_background": "light"
          }
        }
      ]
    },
    {
      "cell_type": "code",
      "metadata": {
        "colab": {
          "base_uri": "https://localhost:8080/",
          "height": 231
        },
        "id": "LlPChdBOwDo1",
        "outputId": "5254f72e-f2cc-4313-9fe2-a76396181508"
      },
      "source": [
        "plt.figure(figsize=(10,10))\n",
        "plt.pie(train_label.value_counts(),explode=[0.01,0.01,0.001],colors=['orange','pink','blue'],\n",
        "        labels=['Positive','Negative','Neutral'],autopct='%0.2f%%',radius=1,startangle=45)\n",
        "plt.title('Sentiments',fontdict={'size':'20'})\n",
        "plt.show()"
      ],
      "execution_count": 1,
      "outputs": [
        {
          "output_type": "error",
          "ename": "NameError",
          "evalue": "ignored",
          "traceback": [
            "\u001b[0;31m---------------------------------------------------------------------------\u001b[0m",
            "\u001b[0;31mNameError\u001b[0m                                 Traceback (most recent call last)",
            "\u001b[0;32m<ipython-input-1-0c4661acb448>\u001b[0m in \u001b[0;36m<module>\u001b[0;34m()\u001b[0m\n\u001b[0;32m----> 1\u001b[0;31m \u001b[0mplt\u001b[0m\u001b[0;34m.\u001b[0m\u001b[0mfigure\u001b[0m\u001b[0;34m(\u001b[0m\u001b[0mfigsize\u001b[0m\u001b[0;34m=\u001b[0m\u001b[0;34m(\u001b[0m\u001b[0;36m10\u001b[0m\u001b[0;34m,\u001b[0m\u001b[0;36m10\u001b[0m\u001b[0;34m)\u001b[0m\u001b[0;34m)\u001b[0m\u001b[0;34m\u001b[0m\u001b[0;34m\u001b[0m\u001b[0m\n\u001b[0m\u001b[1;32m      2\u001b[0m plt.pie(train_label.value_counts(),explode=[0.01,0.01,0.001],colors=['orange','pink','blue'],\n\u001b[1;32m      3\u001b[0m         labels=['Positive','Negative','Neutral'],autopct='%0.2f%%',radius=1,startangle=45)\n\u001b[1;32m      4\u001b[0m \u001b[0mplt\u001b[0m\u001b[0;34m.\u001b[0m\u001b[0mtitle\u001b[0m\u001b[0;34m(\u001b[0m\u001b[0;34m'Sentiments'\u001b[0m\u001b[0;34m,\u001b[0m\u001b[0mfontdict\u001b[0m\u001b[0;34m=\u001b[0m\u001b[0;34m{\u001b[0m\u001b[0;34m'size'\u001b[0m\u001b[0;34m:\u001b[0m\u001b[0;34m'20'\u001b[0m\u001b[0;34m}\u001b[0m\u001b[0;34m)\u001b[0m\u001b[0;34m\u001b[0m\u001b[0;34m\u001b[0m\u001b[0m\n\u001b[1;32m      5\u001b[0m \u001b[0mplt\u001b[0m\u001b[0;34m.\u001b[0m\u001b[0mshow\u001b[0m\u001b[0;34m(\u001b[0m\u001b[0;34m)\u001b[0m\u001b[0;34m\u001b[0m\u001b[0;34m\u001b[0m\u001b[0m\n",
            "\u001b[0;31mNameError\u001b[0m: name 'plt' is not defined"
          ]
        }
      ]
    },
    {
      "cell_type": "code",
      "metadata": {
        "id": "GVB_7-O2wMXR"
      },
      "source": [
        "early_stop=EarlyStopping(monitor='val_accuracy',patience=3)\n",
        "reduceLR=ReduceLROnPlateau(monitor='val_accuarcy',patience=2)"
      ],
      "execution_count": null,
      "outputs": []
    },
    {
      "cell_type": "code",
      "metadata": {
        "id": "Z9mTGb80wYcd"
      },
      "source": [
        "token=Tokenizer(num_words=5000,oov_token=Lemmatizer())\n",
        "token.fit_on_texts(train_text)\n",
        "train_x_2=token.texts_to_sequences(train_text)\n",
        "train_x_2=pad_sequences(train_x_2,maxlen=60,padding='post',truncating='post')"
      ],
      "execution_count": null,
      "outputs": []
    },
    {
      "cell_type": "code",
      "metadata": {
        "id": "9fcRoCiXwaKT"
      },
      "source": [
        "val_x_2=token.texts_to_sequences(val_text)\n",
        "val_x_2=pad_sequences(val_x_2,maxlen=60,padding='post',truncating='post')"
      ],
      "execution_count": null,
      "outputs": []
    },
    {
      "cell_type": "code",
      "metadata": {
        "colab": {
          "base_uri": "https://localhost:8080/"
        },
        "id": "geq85CyVwcmF",
        "outputId": "e9ec1737-2fbf-44ef-c6bb-4df83c0bd192"
      },
      "source": [
        "embedding_dimension=32\n",
        "v=len(token.word_index)\n",
        "model=Sequential()\n",
        "model.add(Input(shape=(60,)))\n",
        "model.add(Embedding(v+1,embedding_dimension))\n",
        "# model.add(Input(shape=(train_x.shape[1],)))\n",
        "model.add(LSTM(64,return_sequences=True))\n",
        "# model.add(Dense(128))\n",
        "model.add(GlobalMaxPool1D())\n",
        "model.add(Dense(64))\n",
        "model.add(Dense(3,activation='softmax'))"
      ],
      "execution_count": null,
      "outputs": [
        {
          "output_type": "stream",
          "text": [
            "WARNING:tensorflow:Please add `keras.layers.InputLayer` instead of `keras.Input` to Sequential model. `keras.Input` is intended to be used by Functional model.\n"
          ],
          "name": "stdout"
        }
      ]
    },
    {
      "cell_type": "code",
      "metadata": {
        "colab": {
          "base_uri": "https://localhost:8080/"
        },
        "id": "bXrhKYKfwefY",
        "outputId": "9e18d312-0f8c-4f33-ce2e-2c55fa70f6e0"
      },
      "source": [
        "model.compile(optimizer='adam',loss='sparse_categorical_crossentropy',metrics=['accuracy'])\n",
        "r=model.fit(train_x_2,train_label_codes,validation_data=(val_x_2,val_label_codes),\n",
        "            epochs=20,batch_size=50,callbacks=[reduceLR,early_stop])"
      ],
      "execution_count": null,
      "outputs": [
        {
          "output_type": "stream",
          "text": [
            "Epoch 1/20\n",
            "700/700 [==============================] - 68s 71ms/step - loss: 0.8409 - accuracy: 0.5949 - val_loss: 0.4715 - val_accuracy: 0.8434\n",
            "WARNING:tensorflow:Learning rate reduction is conditioned on metric `val_accuarcy` which is not available. Available metrics are: loss,accuracy,val_loss,val_accuracy,lr\n",
            "Epoch 2/20\n",
            "700/700 [==============================] - 48s 69ms/step - loss: 0.4101 - accuracy: 0.8691 - val_loss: 0.4176 - val_accuracy: 0.8635\n",
            "WARNING:tensorflow:Learning rate reduction is conditioned on metric `val_accuarcy` which is not available. Available metrics are: loss,accuracy,val_loss,val_accuracy,lr\n",
            "Epoch 3/20\n",
            "700/700 [==============================] - 49s 70ms/step - loss: 0.3307 - accuracy: 0.8916 - val_loss: 0.4071 - val_accuracy: 0.8654\n",
            "WARNING:tensorflow:Learning rate reduction is conditioned on metric `val_accuarcy` which is not available. Available metrics are: loss,accuracy,val_loss,val_accuracy,lr\n",
            "Epoch 4/20\n",
            "700/700 [==============================] - 50s 71ms/step - loss: 0.2893 - accuracy: 0.9062 - val_loss: 0.4183 - val_accuracy: 0.8638\n",
            "WARNING:tensorflow:Learning rate reduction is conditioned on metric `val_accuarcy` which is not available. Available metrics are: loss,accuracy,val_loss,val_accuracy,lr\n",
            "Epoch 5/20\n",
            "700/700 [==============================] - 49s 70ms/step - loss: 0.2657 - accuracy: 0.9131 - val_loss: 0.4366 - val_accuracy: 0.8596\n",
            "WARNING:tensorflow:Learning rate reduction is conditioned on metric `val_accuarcy` which is not available. Available metrics are: loss,accuracy,val_loss,val_accuracy,lr\n",
            "Epoch 6/20\n",
            "700/700 [==============================] - 49s 70ms/step - loss: 0.2290 - accuracy: 0.9251 - val_loss: 0.4642 - val_accuracy: 0.8544\n",
            "WARNING:tensorflow:Learning rate reduction is conditioned on metric `val_accuarcy` which is not available. Available metrics are: loss,accuracy,val_loss,val_accuracy,lr\n"
          ],
          "name": "stdout"
        }
      ]
    },
    {
      "cell_type": "code",
      "metadata": {
        "colab": {
          "base_uri": "https://localhost:8080/",
          "height": 304
        },
        "id": "7KjUCrX8wrzH",
        "outputId": "2301c5a6-207b-4208-b0ee-8c697a9d863b"
      },
      "source": [
        "plt.plot(r.history['loss'])\n",
        "plt.plot(r.history['val_loss'])\n",
        "plt.title('LOSS',fontdict={'size':'22'})\n",
        "plt.plot()"
      ],
      "execution_count": null,
      "outputs": [
        {
          "output_type": "execute_result",
          "data": {
            "text/plain": [
              "[]"
            ]
          },
          "metadata": {
            "tags": []
          },
          "execution_count": 70
        },
        {
          "output_type": "display_data",
          "data": {
            "image/png": "[encoded data removed]",
            "text/plain": [
              "<Figure size 432x288 with 1 Axes>"
            ]
          },
          "metadata": {
            "tags": [],
            "needs_background": "light"
          }
        }
      ]
    },
    {
      "cell_type": "code",
      "metadata": {
        "colab": {
          "base_uri": "https://localhost:8080/",
          "height": 304
        },
        "id": "tpScaZBax_DH",
        "outputId": "f9c09a84-9915-4945-d0de-7b45bdd3212a"
      },
      "source": [
        "plt.plot(r.history['accuracy'])\n",
        "plt.plot(r.history['val_accuracy'])\n",
        "plt.title('Accuracy',fontdict={'size':'22'})\n",
        "plt.plot()"
      ],
      "execution_count": null,
      "outputs": [
        {
          "output_type": "execute_result",
          "data": {
            "text/plain": [
              "[]"
            ]
          },
          "metadata": {
            "tags": []
          },
          "execution_count": 71
        },
        {
          "output_type": "display_data",
          "data": {
            "image/png": "[encoded data removed]",
            "text/plain": [
              "<Figure size 432x288 with 1 Axes>"
            ]
          },
          "metadata": {
            "tags": [],
            "needs_background": "light"
          }
        }
      ]
    },
    {
      "cell_type": "code",
      "metadata": {
        "id": "kN-Y3qyRyBUS"
      },
      "source": [
        "test_data=pd.read_csv('/content/drive/MyDrive/Datasets/Corona Tweet Sentiment Analysis/Corona_NLP_test.csv',encoding='latin1')"
      ],
      "execution_count": null,
      "outputs": []
    },
    {
      "cell_type": "code",
      "metadata": {
        "id": "3qc0gxxDyFgG"
      },
      "source": [
        "test_data['Sentiment']=test_data['Sentiment'].replace({'Extremely Positive':'Positive','Extremely Negative':'Negative'})"
      ],
      "execution_count": null,
      "outputs": []
    },
    {
      "cell_type": "code",
      "metadata": {
        "id": "ZLc6jdbyySqE"
      },
      "source": [
        "test_label=lbl_encoder.transform(test_data['Sentiment'])"
      ],
      "execution_count": null,
      "outputs": []
    },
    {
      "cell_type": "code",
      "metadata": {
        "id": "QVuH2bq4yUy8"
      },
      "source": [
        "test_x=test_data.OriginalTweet"
      ],
      "execution_count": null,
      "outputs": []
    },
    {
      "cell_type": "code",
      "metadata": {
        "id": "QWT3onbByW7o"
      },
      "source": [
        "test_x_1=tokenizer.transform(test_x).toarray()"
      ],
      "execution_count": null,
      "outputs": []
    },
    {
      "cell_type": "code",
      "metadata": {
        "colab": {
          "base_uri": "https://localhost:8080/"
        },
        "id": "SZjW-W4fyYqv",
        "outputId": "aab3f72d-bf28-466d-e174-a3b23d58bbba"
      },
      "source": [
        "print(classification_report(test_label,model_p1.predict(test_x_1)))"
      ],
      "execution_count": null,
      "outputs": [
        {
          "output_type": "stream",
          "text": [
            "              precision    recall  f1-score   support\n",
            "\n",
            "           0       0.81      0.77      0.79      1633\n",
            "           1       0.61      0.66      0.63       619\n",
            "           2       0.79      0.81      0.80      1546\n",
            "\n",
            "    accuracy                           0.77      3798\n",
            "   macro avg       0.74      0.74      0.74      3798\n",
            "weighted avg       0.77      0.77      0.77      3798\n",
            "\n"
          ],
          "name": "stdout"
        }
      ]
    },
    {
      "cell_type": "code",
      "metadata": {
        "id": "3kJWXrr3ybmK"
      },
      "source": [
        "test_x_2=token.texts_to_sequences(test_data['OriginalTweet'])\n",
        "test_x_2=pad_sequences(test_x_2,maxlen=60,padding='post',truncating='post')"
      ],
      "execution_count": null,
      "outputs": []
    },
    {
      "cell_type": "code",
      "metadata": {
        "colab": {
          "base_uri": "https://localhost:8080/"
        },
        "id": "eX1qGDo2yeTS",
        "outputId": "ba8db3f7-7d6d-48a4-db9d-dab58f471ea4"
      },
      "source": [
        "print(classification_report(test_label,model.predict_classes(test_x_2)))"
      ],
      "execution_count": null,
      "outputs": [
        {
          "output_type": "stream",
          "text": [
            "              precision    recall  f1-score   support\n",
            "\n",
            "           0       0.86      0.84      0.85      1633\n",
            "           1       0.80      0.76      0.78       619\n",
            "           2       0.84      0.88      0.86      1546\n",
            "\n",
            "    accuracy                           0.84      3798\n",
            "   macro avg       0.83      0.83      0.83      3798\n",
            "weighted avg       0.84      0.84      0.84      3798\n",
            "\n"
          ],
          "name": "stdout"
        }
      ]
    },
    {
      "cell_type": "code",
      "metadata": {
        "id": "sLU8Uz72yg2E"
      },
      "source": [
        ""
      ],
      "execution_count": null,
      "outputs": []
    }
  ]
}